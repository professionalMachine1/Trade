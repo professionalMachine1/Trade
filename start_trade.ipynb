{
 "cells": [
  {
   "cell_type": "code",
   "execution_count": 1,
   "metadata": {},
   "outputs": [],
   "source": [
    "import numpy as np\n",
    "import pandas as pd\n",
    "import scipy.optimize as spo\n",
    "import datetime\n",
    "import matplotlib.pyplot as plt\n",
    "from sklearn.model_selection import train_test_split\n",
    "from sklearn import ensemble"
   ]
  },
  {
   "cell_type": "code",
   "execution_count": 2,
   "metadata": {},
   "outputs": [],
   "source": [
    "# ---\n",
    "\n",
    "data = pd.read_csv(\"C:\\\\Users\\\\HOME\\\\Desktop\\\\EURUSD_M5_V2.csv\", sep = \"\\t\")\n",
    "\n",
    "# ---\n",
    "\n",
    "dt = data['<DATE>'] + \" \" + data['<TIME>']\n",
    "dt_0 = datetime.datetime.strptime(dt[0], \"%Y.%m.%d %H:%M:%S\")\n",
    "time = np.array([(datetime.datetime.strptime(c, \"%Y.%m.%d %H:%M:%S\") - dt_0).total_seconds() for c in dt])\n",
    "data = pd.concat((pd.Series(time, name = '<TIME>'), data['<OPEN>'], data['<HIGH>'], data['<LOW>'], data['<CLOSE>']), axis = 1)\n",
    "\n",
    "diff_time = data['<TIME>'][1]\n",
    "\n",
    "# data = pd.concat([data['<TIME>'], data.drop('<TIME>', axis = 1) * 100], axis = 1)\n",
    "\n",
    "# ---\n",
    "\n",
    "section_num = 10\n",
    "last_ind = section_num - 1\n",
    "num_rows = data.shape[0] - section_num\n",
    "\n",
    "# ---\n",
    "\n",
    "ohlc_columns = []\n",
    "for c in range(section_num):\n",
    "    ohlc_columns.append(f'OPEN{c}')\n",
    "    ohlc_columns.append(f'HIGH{c}')\n",
    "    ohlc_columns.append(f'LOW{c}')\n",
    "    ohlc_columns.append(f'CLOSE{c}')\n",
    "ohlc_data = pd.DataFrame(columns = ohlc_columns)\n",
    "\n",
    "oc_columns = []\n",
    "for c in range(section_num):\n",
    "    oc_columns.append(f'OPEN{c}')\n",
    "    oc_columns.append(f'CLOSE{c}')\n",
    "oc_data = pd.DataFrame(columns = oc_columns)\n",
    "\n",
    "open_columns = [f'OPEN{c}' for c in range(section_num)]\n",
    "open_data = pd.DataFrame(columns = open_columns)\n",
    "\n",
    "# ---\n",
    "\n",
    "for c in range(section_num):\n",
    "    ohlc_data[f'OPEN{c}'] = data['<OPEN>'][c:num_rows + c].reset_index(drop = True)\n",
    "    ohlc_data[f'HIGH{c}'] = data['<HIGH>'][c:num_rows + c].reset_index(drop = True)\n",
    "    ohlc_data[f'LOW{c}'] = data['<LOW>'][c:num_rows + c].reset_index(drop = True)\n",
    "    ohlc_data[f'CLOSE{c}'] = data['<CLOSE>'][c:num_rows + c].reset_index(drop = True)\n",
    "    # \n",
    "    oc_data[f'OPEN{c}'] = ohlc_data[f'OPEN{c}']\n",
    "    oc_data[f'CLOSE{c}'] = ohlc_data[f'CLOSE{c}']\n",
    "    #\n",
    "    open_data[f'OPEN{c}'] = ohlc_data[f'OPEN{c}']\n"
   ]
  },
  {
   "cell_type": "code",
   "execution_count": 101,
   "metadata": {},
   "outputs": [
    {
     "data": {
      "text/plain": [
       "0.0002689178502442906"
      ]
     },
     "execution_count": 101,
     "metadata": {},
     "output_type": "execute_result"
    }
   ],
   "source": [
    "difference = np.abs(data['<OPEN>'][0:data.shape[0] - 1].reset_index(drop = True) - data['<OPEN>'][1:data.shape[0]].reset_index(drop = True))\n",
    "mean_difference = difference.mean()\n",
    "mean_difference"
   ]
  },
  {
   "attachments": {},
   "cell_type": "markdown",
   "metadata": {},
   "source": [
    "--- Аппроксимируем данные ---"
   ]
  },
  {
   "cell_type": "code",
   "execution_count": 3,
   "metadata": {},
   "outputs": [],
   "source": [
    "def my_fun1(x, a, b, c):\n",
    "    return a / (x + 1) + b * x + c\n",
    "\n",
    "def my_fun_arr1(x, p):\n",
    "    return p[0] / (x + 1) + p[1] * x + p[2]\n",
    "\n",
    "def my_fun2(x, a, b):\n",
    "    return a * x + b\n",
    "\n",
    "def my_fun_arr2(x, p):\n",
    "    return p[0] * x + p[1]\n",
    "\n",
    "# Используем открытые и закрытые\n",
    "def oc_xy_val(y_row_index):\n",
    "    x_val = []\n",
    "    for c in range(section_num):\n",
    "        x_val.append(c * diff_time)\n",
    "        x_val.append((c + 1) * diff_time - 1)\n",
    "    x_val = x_val / diff_time\n",
    "    y_val = np.array(oc_data.iloc[y_row_index])\n",
    "\n",
    "    # print(round(open_data['CLOSE' + f'{last_ind}'][y_row_index] - open_data['OPEN' + f'{last_ind}'][y_row_index], 5))\n",
    "    return x_val, y_val\n",
    "\n",
    "# Используем открытые\n",
    "def open_xy_val(y_row_index):\n",
    "    x_val = [c * diff_time for c in range(section_num)]\n",
    "    x_val = x_val / diff_time\n",
    "    y_val = np.array(open_data.iloc[y_row_index])\n",
    "\n",
    "    # print(round(open_data['OPEN' + f'{last_ind}'][y_row_index] - open_data['OPEN' + f'{last_ind - 1}'][y_row_index], 5))\n",
    "    return x_val, y_val\n",
    "\n",
    "# ---\n",
    "def plot_trajectory(my_fun, my_fun_arr, y_row_index):\n",
    "    x_val, y_val = open_xy_val(y_row_index)\n",
    "    spopt, spcov = spo.curve_fit(my_fun, x_val[0:-1], y_val[0:-1])\n",
    "    popt, pcov = spo.curve_fit(my_fun, x_val, y_val)\n",
    "    x_ls = np.linspace(x_val[0], x_val[-1], 100)\n",
    "\n",
    "    plt.plot(x_val, y_val, 'bo')\n",
    "    plt.plot(x_ls, my_fun_arr(x_ls, popt), label = 'small_val')\n",
    "    plt.plot(x_ls, my_fun_arr(x_ls, spopt), label = 'val')\n",
    "    plt.grid(True)\n",
    "    plt.legend()\n",
    "\n",
    "def get_error(my_fun, my_fun_arr, x_val, y_val):\n",
    "    spopt, spcov = spo.curve_fit(my_fun, x_val[0:-1], y_val[0:-1])\n",
    "    popt, pcov = spo.curve_fit(my_fun, x_val, y_val)\n",
    "\n",
    "    err = my_fun_arr(x_val, popt) - y_val\n",
    "    serr = my_fun_arr(x_val, spopt) - y_val\n",
    "    return serr, err\n",
    "\n",
    "def get_opt(my_fun, my_fun_arr, x_val, y_val):\n",
    "    spopt, spcov = spo.curve_fit(my_fun, x_val[0:-1], y_val[0:-1])\n",
    "    popt, pcov = spo.curve_fit(my_fun, x_val, y_val)\n",
    "    return spopt, popt\n",
    "\n",
    "def plot_error(my_fun, my_fun_arr, y_row_index):\n",
    "    x_val, y_val = open_xy_val(y_row_index)\n",
    "    serr, err = get_error(my_fun, my_fun_arr, x_val, y_val)\n",
    "    \n",
    "    plt.plot(x_val, serr, label = 'serr')\n",
    "    plt.plot(x_val, err, label = 'err')\n",
    "    plt.plot(x_val, serr - err, label = 'serr - err')\n",
    "    plt.grid(True)\n",
    "    plt.legend()\n",
    "    return serr, err\n",
    "\n",
    "def get_diff(my_fun_arr, x_val, y_val, opt):\n",
    "    return my_fun_arr(x_val, opt) - y_val\n",
    "\n",
    "def double_plot_error(my_fun, my_fun_arr, y_row_index):\n",
    "    x_val, y_val = open_xy_val(y_row_index)\n",
    "    spopt0, popt0 = get_opt(my_fun, my_fun_arr, x_val, y_val)\n",
    "    y0 = y_val[0]\n",
    "\n",
    "    x_val, y_val = open_xy_val(y_row_index + 1)\n",
    "    spopt1, popt1 = get_opt(my_fun, my_fun_arr, x_val, y_val)\n",
    "    \n",
    "    x_val, y_val = np.concatenate([x_val, np.array([section_num])]), np.concatenate([np.array([y0]), y_val])\n",
    "    serr0 = my_fun_arr(x_val, spopt0) - y_val\n",
    "    err0 = my_fun_arr(x_val, popt0) - y_val\n",
    "    serr1 = my_fun_arr(x_val, spopt1) - y_val\n",
    "    err1 = my_fun_arr(x_val, popt1) - y_val\n",
    "    \n",
    "    plt.plot(x_val, serr0, label = 'serr0')\n",
    "    plt.plot(x_val, err0, label = 'err0')\n",
    "    plt.plot(x_val, serr1, label = 'serr1')\n",
    "    plt.plot(x_val, err1, label = 'err1')\n",
    "\n",
    "    '''plt.plot(x_val, serr0, label = 'serr0')\n",
    "    plt.plot(x_val, err0, label = 'err0')\n",
    "    plt.plot(x_val + 1, serr1, label = 'serr1')\n",
    "    plt.plot(x_val + 1, err1, label = 'err1')'''\n",
    "    plt.grid(True)\n",
    "    plt.legend()\n",
    "    return serr0, err0, spopt0, popt0, serr1, err1, spopt1, popt1\n",
    "\n",
    "def diff_fun_plot_error(y_row_index):\n",
    "    x_val, y_val = open_xy_val(y_row_index)\n",
    "    f1_serr, f1_err = get_error(my_fun1, my_fun_arr1, x_val, y_val)\n",
    "    f2_serr, f2_err = get_error(my_fun2, my_fun_arr2, x_val, y_val)\n",
    "\n",
    "    plt.plot(x_val, f1_serr, label = 'f1_serr')\n",
    "    # plt.plot(x_val, f1_err, label = 'f1_err')\n",
    "    # plt.plot(x_val, f1_serr - f1_err, label = 'f1_serr - f1_err')\n",
    "    plt.plot(x_val, f2_serr, label = 'f2_serr')\n",
    "    # plt.plot(x_val, f2_err, label = 'f2_err')\n",
    "    # plt.plot(x_val, f2_serr - f2_err, label = 'f2_serr - f2_err')\n",
    "    plt.grid(True)\n",
    "    plt.legend()\n",
    "\n",
    "my_fun, my_fun_arr = my_fun2, my_fun_arr2"
   ]
  },
  {
   "cell_type": "code",
   "execution_count": 190,
   "metadata": {},
   "outputs": [],
   "source": [
    "def bugaga(y_row_index):\n",
    "    x_val, y_val = open_xy_val(y_row_index)\n",
    "    serr0, err0 = get_error(my_fun, my_fun_arr, x_val, y_val)\n",
    "    sopt0, scov0 = spo.curve_fit(my_fun, x_val[1:-1], serr0[1:-1])\n",
    "    see0 = my_fun_arr(x_val, sopt0)\n",
    "\n",
    "    x_val, y_val = open_xy_val(y_row_index + 1)\n",
    "    serr1, err1 = get_error(my_fun, my_fun_arr, x_val, y_val)\n",
    "    sopt1, scov1 = spo.curve_fit(my_fun, x_val[1:-1], serr1[1:-1])\n",
    "    see1 = my_fun_arr(x_val, sopt1)\n",
    "    \n",
    "    plt.plot(x_val, serr1, label = 'serr')\n",
    "    plt.plot(x_val, see1, label = 'see')\n",
    "    plt.grid(True)\n",
    "    plt.legend()\n",
    "    return serr0, see0, serr1, see1"
   ]
  },
  {
   "cell_type": "code",
   "execution_count": 201,
   "metadata": {},
   "outputs": [
    {
     "name": "stdout",
     "output_type": "stream",
     "text": [
      "9.928571338698364e-05 0.0003453333311522755\n"
     ]
    },
    {
     "data": {
      "image/png": "[encoded data removed]",
      "text/plain": [
       "<Figure size 432x288 with 1 Axes>"
      ]
     },
     "metadata": {
      "needs_background": "light"
     },
     "output_type": "display_data"
    }
   ],
   "source": [
    "serr0, see0, serr1, see1 = bugaga(2)\n",
    "print(see1[-1] - see0[-1], serr1[last_ind] - serr1[last_ind-1])"
   ]
  },
  {
   "cell_type": "code",
   "execution_count": 7,
   "metadata": {},
   "outputs": [
    {
     "data": {
      "text/plain": [
       "<matplotlib.legend.Legend at 0x2d849867fa0>"
      ]
     },
     "execution_count": 7,
     "metadata": {},
     "output_type": "execute_result"
    },
    {
     "data": {
      "image/png": "[encoded data removed]",
      "text/plain": [
       "<Figure size 432x288 with 1 Axes>"
      ]
     },
     "metadata": {
      "needs_background": "light"
     },
     "output_type": "display_data"
    }
   ],
   "source": [
    "x_val, y_val = open_xy_val(5)\n",
    "\n",
    "li = x_val.shape[0] - 1\n",
    "slopt, slcov = spo.curve_fit(my_fun, x_val[0:li - 1], y_val[0:li - 1])\n",
    "sopt, scov = spo.curve_fit(my_fun, x_val[0:li], y_val[0:li])\n",
    "sfopt, sfcov = spo.curve_fit(my_fun, x_val[1:li], y_val[1:li])\n",
    "opt, cov = spo.curve_fit(my_fun, x_val, y_val)\n",
    "\n",
    "eopt, ecov = spo.curve_fit(my_fun, x_val[1:], y_val[1:])\n",
    "see = my_fun_arr(x_val, eopt)\n",
    "\n",
    "slerr = my_fun_arr(x_val, slopt)\n",
    "serr = my_fun_arr(x_val, sopt)\n",
    "sferr = my_fun_arr(x_val, sfopt)\n",
    "err = my_fun_arr(x_val, opt)\n",
    "\n",
    "plt.plot(x_val, serr, label = 'serr')\n",
    "#plt.plot(x, err, label = 'err')\n",
    "#plt.plot(x, slerr, label = 'slerr')\n",
    "#plt.plot(x, sferr, label = 'sferr')\n",
    "plt.plot(x_val, err, label = 'err')\n",
    "plt.grid(True)\n",
    "plt.legend()"
   ]
  },
  {
   "cell_type": "code",
   "execution_count": null,
   "metadata": {},
   "outputs": [],
   "source": [
    "serr, err = plot_error(my_fun, my_fun_arr, 0)"
   ]
  },
  {
   "cell_type": "code",
   "execution_count": 65,
   "metadata": {},
   "outputs": [
    {
     "name": "stdout",
     "output_type": "stream",
     "text": [
      "-1.0333333333445438e-05 -2.0424244605354858e-05\n",
      "-5.250000218137707e-05 -5.157575975700546e-05\n"
     ]
    },
    {
     "data": {
      "image/png": "[encoded data removed]",
      "text/plain": [
       "<Figure size 432x288 with 1 Axes>"
      ]
     },
     "metadata": {
      "needs_background": "light"
     },
     "output_type": "display_data"
    }
   ],
   "source": [
    "serr0, err0, spopt0, popt0, serr1, err1, spopt1, popt1 = double_plot_error(my_fun, my_fun_arr, 0)\n",
    "\n",
    "li = last_ind + 1\n",
    "new_err, move = (serr1 + err1) / 2, 0\n",
    "x_val = np.arange(move, new_err.shape[0] + move)\n",
    "plt.plot(x_val, my_fun_arr(x_val, (spopt0 + spopt1) / 2 - popt0), label = 'new_err')\n",
    "plt.legend()\n",
    "print(serr0[li] - serr0[li-1], err0[li] - err0[li-1])\n",
    "print(serr1[li] - serr1[li-1], err1[li] - err1[li-1])"
   ]
  },
  {
   "cell_type": "code",
   "execution_count": 72,
   "metadata": {},
   "outputs": [
    {
     "name": "stdout",
     "output_type": "stream",
     "text": [
      "[-1.07024109e-04 -1.78879310e-05  9.35769465e-05]\n",
      "[-4.93939394e-06  1.31717172e-05]\n"
     ]
    },
    {
     "data": {
      "image/png": "[encoded data removed]",
      "text/plain": [
       "<Figure size 432x288 with 1 Axes>"
      ]
     },
     "metadata": {
      "needs_background": "light"
     },
     "output_type": "display_data"
    }
   ],
   "source": [
    "diff_fun_plot_error(19)"
   ]
  },
  {
   "cell_type": "code",
   "execution_count": 141,
   "metadata": {},
   "outputs": [
    {
     "name": "stderr",
     "output_type": "stream",
     "text": [
      "C:\\Users\\HOME\\AppData\\Local\\Programs\\Python\\Python310\\Lib\\site-packages\\scipy\\optimize\\_minpack_py.py:833: OptimizeWarning: Covariance of the parameters could not be estimated\n",
      "  warnings.warn('Covariance of the parameters could not be estimated',\n"
     ]
    },
    {
     "name": "stdout",
     "output_type": "stream",
     "text": [
      "mean = 0.00013103646627781994, std = 0.0001440853053676201\n"
     ]
    }
   ],
   "source": [
    "serr_last = []\n",
    "diff_end = []\n",
    "for i in range(num_rows):\n",
    "    x_val, y_val = open_xy_val(i)\n",
    "    serr, err = get_error(my_fun, my_fun_arr, x_val, y_val)\n",
    "    diff_end.append(abs(serr[-1] - err[-1]))\n",
    "    serr_last.append(abs(serr[-1]))\n",
    "diff_end, serr_last = np.array(diff_end), np.array(serr_last)\n",
    "mean = diff_end.mean()\n",
    "std = diff_end.std()\n",
    "print(f'mean = {mean}, std = {std}')"
   ]
  },
  {
   "cell_type": "code",
   "execution_count": 10,
   "metadata": {},
   "outputs": [
    {
     "name": "stdout",
     "output_type": "stream",
     "text": [
      "2490 1059\n"
     ]
    }
   ],
   "source": [
    "less_min = np.array([i for i in range(diff_end.shape[0]) if diff_end[i] < 10**(-5)])\n",
    "eq_val = np.array([i for i in range(serr_last.shape[0]) if serr_last[i] < 10**(-5)])\n",
    "print(less_min.shape[0], eq_val.shape[0])"
   ]
  },
  {
   "cell_type": "code",
   "execution_count": 76,
   "metadata": {},
   "outputs": [
    {
     "name": "stdout",
     "output_type": "stream",
     "text": [
      "6.237373735729079e-06\n",
      "10 10\n",
      "1.036364304818349e-05\n"
     ]
    }
   ],
   "source": [
    "y_row_index = 16\n",
    "x_val, y_val = open_xy_val(y_row_index)\n",
    "sserr, serr, err = get_error(my_fun, my_fun_arr, x_val, y_val)\n",
    "print(abs(serr[-1] - err[-1]))\n",
    "\n",
    "spopt, spcov = spo.curve_fit(my_fun, x_val[0:-1], y_val[0:-1])\n",
    "y_spopt = my_fun_arr(x_val, spopt)\n",
    "\n",
    "print(y_spopt.shape[0], y_val.shape[0])\n",
    "\n",
    "mult = 3\n",
    "opt_diff = []\n",
    "for h in np.arange(-mult * 10**(-5), mult * 10**(-5), 10**(-5)):\n",
    "    y_val[-1] = y_spopt[-1] + h\n",
    "    popt, pcov = spo.curve_fit(my_fun, x_val, y_val)\n",
    "    y_opt = my_fun_arr(x_val, popt)\n",
    "    opt_diff.append(abs(y_opt[-1] - y_spopt[-1]))\n",
    "opt_diff = np.array(opt_diff)\n",
    "print(opt_diff.max())"
   ]
  },
  {
   "cell_type": "code",
   "execution_count": 266,
   "metadata": {},
   "outputs": [
    {
     "name": "stderr",
     "output_type": "stream",
     "text": [
      "C:\\Users\\HOME\\AppData\\Local\\Programs\\Python\\Python310\\Lib\\site-packages\\scipy\\optimize\\_minpack_py.py:833: OptimizeWarning: Covariance of the parameters could not be estimated\n",
      "  warnings.warn('Covariance of the parameters could not be estimated',\n"
     ]
    }
   ],
   "source": [
    "err_columns = [f'ERR_OPEN{c}' for c in range(section_num)]\n",
    "\n",
    "table = []\n",
    "for i in range(open_data.shape[0]):\n",
    "    x_val, y_val = open_xy_val(i)\n",
    "    serr, err = get_error(my_fun, my_fun_arr, x_val, y_val)\n",
    "    table.append(serr)\n",
    "\n",
    "err_data = pd.DataFrame(data = table, columns = err_columns)"
   ]
  },
  {
   "cell_type": "code",
   "execution_count": 267,
   "metadata": {},
   "outputs": [],
   "source": [
    "x = err_data.drop(f'ERR_OPEN{last_ind}', axis = 1)\n",
    "y = np.sign(err_data[f'ERR_OPEN{last_ind}'] - err_data[f'ERR_OPEN{last_ind - 1}'])\n",
    "\n",
    "'''y = []\n",
    "for i in range(err_data.shape[0]):\n",
    "    if abs(err_data[f'ERR_OPEN{last_ind}'][i]) < 10**(-5):\n",
    "        y.append(1)\n",
    "    else:\n",
    "        y.append(0)'''\n",
    "x_train, x_test, y_train, y_test = train_test_split(x, y, test_size = 0.25)"
   ]
  },
  {
   "cell_type": "code",
   "execution_count": null,
   "metadata": {},
   "outputs": [],
   "source": [
    "# ada = ensemble.AdaBoostClassifier(n_estimators = 1000)\n",
    "# ada = ensemble.RandomForestClassifier(n_estimators = 1000)\n",
    "# ada = ensemble.GradientBoostingClassifier()\n",
    "# ada = ensemble.ExtraTreesClassifier(n_estimators = 1000)"
   ]
  },
  {
   "cell_type": "code",
   "execution_count": 268,
   "metadata": {},
   "outputs": [
    {
     "name": "stdout",
     "output_type": "stream",
     "text": [
      "0.0 0.4869533593963088\n"
     ]
    }
   ],
   "source": [
    "ada = ensemble.RandomForestClassifier(n_estimators = 1000)\n",
    "ada.fit(x_train, y_train)\n",
    "\n",
    "err_train = 1 - ada.score(x_train, y_train)\n",
    "err_test = 1 - ada.score(x_test, y_test)\n",
    "print(err_train, err_test)"
   ]
  },
  {
   "cell_type": "code",
   "execution_count": null,
   "metadata": {},
   "outputs": [],
   "source": [
    "y_cur = y_test\n",
    "y_predict = ada.predict(x_test)\n",
    "pr00, pr01, pr10, pr11 = 0, 0, 0, 0\n",
    "for i in range(y_predict.shape[0]):\n",
    "    if y_predict[i] == 0:\n",
    "        if y_cur[i] == 0:\n",
    "            pr00 = pr00 + 1\n",
    "        else:\n",
    "            pr01 = pr01 + 1\n",
    "    else:\n",
    "        if y_cur[i] == 0:\n",
    "            pr10 = pr10 + 1\n",
    "        else:\n",
    "            pr11 = pr11 + 1\n",
    "print(pr00, pr01, pr10, pr11, y_predict.shape[0])"
   ]
  },
  {
   "attachments": {},
   "cell_type": "markdown",
   "metadata": {},
   "source": [
    "--- Обучаем программу ---"
   ]
  },
  {
   "cell_type": "code",
   "execution_count": 225,
   "metadata": {},
   "outputs": [],
   "source": [
    "def get_xy(name):\n",
    "    if('ohlc'):\n",
    "        x = ohlc_data.drop([f'CLOSE{last_ind}', f'HIGH{last_ind}', f'LOW{last_ind}'], axis = 1)\n",
    "        y = ohlc_data[f'CLOSE{last_ind}']\n",
    "    if('oc'):\n",
    "        x = oc_data.drop(f'CLOSE{last_ind}', axis = 1)\n",
    "        y = oc_data[f'CLOSE{last_ind}']\n",
    "    if('open'):\n",
    "        x = open_data.drop(f'OPEN{last_ind}', axis = 1)\n",
    "        y = open_data[f'OPEN{last_ind}']\n",
    "    return x, y\n"
   ]
  },
  {
   "cell_type": "code",
   "execution_count": 226,
   "metadata": {},
   "outputs": [],
   "source": [
    "x, y = get_xy('open')\n",
    "x_train, x_test, y_train, y_test = train_test_split(x, y, test_size = 0.25)"
   ]
  },
  {
   "attachments": {},
   "cell_type": "markdown",
   "metadata": {},
   "source": [
    "--- Ada Boost ---"
   ]
  },
  {
   "cell_type": "code",
   "execution_count": 227,
   "metadata": {},
   "outputs": [],
   "source": [
    "ada = ensemble.AdaBoostRegressor(n_estimators = 1000)\n",
    "ada.fit(x_train, y_train)\n",
    "\n",
    "y_pred = ada.predict(x)"
   ]
  }
 ],
 "metadata": {
  "kernelspec": {
   "display_name": "Python 3",
   "language": "python",
   "name": "python3"
  },
  "language_info": {
   "codemirror_mode": {
    "name": "ipython",
    "version": 3
   },
   "file_extension": ".py",
   "mimetype": "text/x-python",
   "name": "python",
   "nbconvert_exporter": "python",
   "pygments_lexer": "ipython3",
   "version": "3.10.4 (tags/v3.10.4:9d38120, Mar 23 2022, 23:13:41) [MSC v.1929 64 bit (AMD64)]"
  },
  "orig_nbformat": 4,
  "vscode": {
   "interpreter": {
    "hash": "ad347b00e27e6742dee85af9e65ba975c9bf1707e1aa9fe586d74266974efad0"
   }
  }
 },
 "nbformat": 4,
 "nbformat_minor": 2
}
